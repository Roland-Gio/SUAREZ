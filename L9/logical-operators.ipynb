{
 "cells": [
  {
   "cell_type": "markdown",
   "metadata": {},
   "source": [
    "# logical operators <hr style=\"boarder:2.5px solid #Ffc0cb\"></hr>"
   ]
  },
  {
   "cell_type": "markdown",
   "metadata": {},
   "source": [
    "Data Analsyt: Roland Gio N. Suarez <br>\n",
    "Department: Electrical Engineering"
   ]
  },
  {
   "cell_type": "markdown",
   "metadata": {},
   "source": [
    "# Logical AND"
   ]
  },
  {
   "cell_type": "code",
   "execution_count": 13,
   "metadata": {},
   "outputs": [
    {
     "name": "stdout",
     "output_type": "stream",
     "text": [
      "both are false\n"
     ]
    }
   ],
   "source": [
    "#  a AND b must be true \n",
    "a = False\n",
    "b = False\n",
    "if a and b:\n",
    "    print(\"both are true\")\n",
    "elif not(a) and not(b):\n",
    "    print(\"both are false\")\n",
    "else:\n",
    "    print(\"at least one is false\")"
   ]
  },
  {
   "cell_type": "code",
   "execution_count": 31,
   "metadata": {},
   "outputs": [
    {
     "name": "stdout",
     "output_type": "stream",
     "text": [
      "10002 is out of range \n"
     ]
    }
   ],
   "source": [
    "# check if a is within the range of 1 to 30\n",
    "a = 10002\n",
    "\n",
    "if (a > 0) and (a <= 10):\n",
    "    print(str(a) + \" is withing the range of 1 to 10. \")\n",
    "elif (a > 10) and (a <= 20):\n",
    "     print(str(a) + \" is withing the range of 11 to 20. \")\n",
    "elif (a > 20) and (a <= 30):\n",
    "     print(str(a) + \" is withing the range of 21 to 30. \")\n",
    "else:\n",
    "     print(str(a) + \" is out of range \")"
   ]
  },
  {
   "cell_type": "markdown",
   "metadata": {},
   "source": [
    "# Logical  OR"
   ]
  },
  {
   "cell_type": "code",
   "execution_count": 33,
   "metadata": {},
   "outputs": [
    {
     "name": "stdout",
     "output_type": "stream",
     "text": [
      "at least one is True\n"
     ]
    }
   ],
   "source": [
    "# either a OR b is True\n",
    "a = True\n",
    "b = False\n",
    "\n",
    "if a or b:\n",
    "    print(\"at least one is True\")\n",
    "else:\n",
    "    print(\"both are false\")"
   ]
  },
  {
   "cell_type": "code",
   "execution_count": 42,
   "metadata": {},
   "outputs": [
    {
     "name": "stdout",
     "output_type": "stream",
     "text": [
      "THe weather is unpredictable today\n"
     ]
    }
   ],
   "source": [
    "# Go outside or stay indoors\n",
    "weather = \"gal om\"\n",
    "\n",
    "if(weather == 'rainy') or (weather == 'stormy'):\n",
    "    print(\"Bring an umbrella or stay indoor!\")\n",
    "elif(weather == 'sunny') or (weather == 'clear'):\n",
    "    print(\"It's a great day to go outside!\")\n",
    "else:\n",
    "    print(\"THe weather is unpredictable today\")"
   ]
  },
  {
   "cell_type": "markdown",
   "metadata": {},
   "source": [
    "# Logical NOT"
   ]
  },
  {
   "cell_type": "code",
   "execution_count": 44,
   "metadata": {},
   "outputs": [
    {
     "data": {
      "text/plain": [
       "True"
      ]
     },
     "execution_count": 44,
     "metadata": {},
     "output_type": "execute_result"
    }
   ],
   "source": [
    "# negates the Logical state\n",
    "a = False\n",
    "not a"
   ]
  },
  {
   "cell_type": "code",
   "execution_count": 49,
   "metadata": {},
   "outputs": [
    {
     "name": "stdout",
     "output_type": "stream",
     "text": [
      "795 is even \n"
     ]
    }
   ],
   "source": [
    "# odd or even number\n",
    "a = 795\n",
    "if not(a%2 == 0):\n",
    "    print(str(a) + \" is even \")\n",
    "else:\n",
    "    print(str(a) + \" is odd \")"
   ]
  }
 ],
 "metadata": {
  "kernelspec": {
   "display_name": "Python 3",
   "language": "python",
   "name": "python3"
  },
  "language_info": {
   "codemirror_mode": {
    "name": "ipython",
    "version": 3
   },
   "file_extension": ".py",
   "mimetype": "text/x-python",
   "name": "python",
   "nbconvert_exporter": "python",
   "pygments_lexer": "ipython3",
   "version": "3.9.0"
  }
 },
 "nbformat": 4,
 "nbformat_minor": 2
}
