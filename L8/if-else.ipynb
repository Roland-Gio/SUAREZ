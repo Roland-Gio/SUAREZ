{
 "cells": [
  {
   "cell_type": "markdown",
   "metadata": {},
   "source": [
    "# if-else statement <hr style=\"boarder:2.5px solid #Ffc0cb\"></hr>"
   ]
  },
  {
   "cell_type": "markdown",
   "metadata": {},
   "source": [
    "Data Analsyt: Roland Gio N. Suarez <br>\n",
    "Department: Electrical Engineering"
   ]
  },
  {
   "cell_type": "markdown",
   "metadata": {},
   "source": [
    "# if statment"
   ]
  },
  {
   "cell_type": "code",
   "execution_count": 2,
   "metadata": {},
   "outputs": [],
   "source": [
    "# passing score is 5.0\n",
    "grade = 2.9\n",
    "if grade >= 5.0: \n",
    "    print(\"pasar ba elangs\")"
   ]
  },
  {
   "cell_type": "code",
   "execution_count": 3,
   "metadata": {},
   "outputs": [
    {
     "name": "stdout",
     "output_type": "stream",
     "text": [
      "pasar ba elangs\n"
     ]
    }
   ],
   "source": [
    "# two if statement are evaluated\n",
    "grade = 7.5\n",
    "\n",
    "# evaluate grade\n",
    "if grade >= 5.0:\n",
    "    print(\"pasar ba elangs\")\n",
    "\n",
    "if grade < 5.0:\n",
    "    print(\"hahaha way pasar\")\n"
   ]
  },
  {
   "cell_type": "markdown",
   "metadata": {},
   "source": [
    "# if-else statement"
   ]
  },
  {
   "cell_type": "code",
   "execution_count": 4,
   "metadata": {},
   "outputs": [
    {
     "name": "stdout",
     "output_type": "stream",
     "text": [
      "hahaha way pasar\n"
     ]
    }
   ],
   "source": [
    "# if grade is >= 5.0 is True, 'else' will not be evaluated\n",
    "grade = 4.0 \n",
    "\n",
    "# evaluate grade\n",
    "if grade >= 5.0:\n",
    "    print(\"pasar ba elangs\")\n",
    "else:\n",
    "    print(\"hahaha way pasar\")"
   ]
  },
  {
   "cell_type": "markdown",
   "metadata": {},
   "source": [
    "# if-elif-else statement"
   ]
  },
  {
   "cell_type": "code",
   "execution_count": 5,
   "metadata": {},
   "outputs": [
    {
     "name": "stdout",
     "output_type": "stream",
     "text": [
      "hahaha way pasar\n"
     ]
    }
   ],
   "source": [
    "# if grade is >= 5.0 is True, 'others' will not be evaluated\n",
    "grade = 2.8\n",
    "\n",
    "# evaluate grade\n",
    "if grade >= 5.0:\n",
    "    print(\"pasar ba elangs\")\n",
    "elif grade < 5.0: # < 5.0 evaluated first\n",
    "    print(\"hahaha way pasar\")\n",
    "elif grade < 3.0:\n",
    "    print(\"goodbye kana boy\")\n",
    "else:\n",
    "    print(\"INVALID\")"
   ]
  },
  {
   "cell_type": "code",
   "execution_count": 6,
   "metadata": {},
   "outputs": [
    {
     "name": "stdout",
     "output_type": "stream",
     "text": [
      "goodbye kana boy\n"
     ]
    }
   ],
   "source": [
    "# if grade is >= 5.0 is True, 'others' will not be evaluated\n",
    "grade = 2.8\n",
    "\n",
    "# evaluate grade\n",
    "if grade >= 5.0:\n",
    "    print(\"pasar ba elangs\")\n",
    "elif grade < 3.0: # < 3.0 evaluated first\n",
    "    print(\"goodbye kana boy\")\n",
    "elif grade < 5.0:\n",
    "    print(\"hahaha way pasar\")\n",
    "else:\n",
    "    print(\"INVALID\")"
   ]
  },
  {
   "cell_type": "markdown",
   "metadata": {},
   "source": []
  }
 ],
 "metadata": {
  "kernelspec": {
   "display_name": "Python 3",
   "language": "python",
   "name": "python3"
  },
  "language_info": {
   "codemirror_mode": {
    "name": "ipython",
    "version": 3
   },
   "file_extension": ".py",
   "mimetype": "text/x-python",
   "name": "python",
   "nbconvert_exporter": "python",
   "pygments_lexer": "ipython3",
   "version": "3.9.0"
  }
 },
 "nbformat": 4,
 "nbformat_minor": 2
}
